{
 "cells": [
  {
   "cell_type": "markdown",
   "metadata": {},
   "source": [
    "# Import Raw Data\n",
    "\n",
    "Here I'm importing the raw survey data and cleaning up"
   ]
  },
  {
   "cell_type": "code",
   "execution_count": 3,
   "metadata": {
    "collapsed": true
   },
   "outputs": [],
   "source": [
    "import unicodecsv\n",
    "\n",
    "def read_csv(filename):\n",
    "    with open(filename, 'rb') as file:\n",
    "        reader = unicodecsv.DictReader(file)\n",
    "        return list(reader)\n",
    "\n",
    "raw_data = read_csv('survey_results_raw.csv')"
   ]
  },
  {
   "cell_type": "code",
   "execution_count": 5,
   "metadata": {
    "collapsed": false
   },
   "outputs": [
    {
     "data": {
      "text/plain": [
       "{u'Age': u'28',\n",
       " u'Did you earn a second degree since graduating from NIT Warangal?': u'No',\n",
       " u'Did you hold any administrative position in the clubs and societies you were a member of?': u'Yes',\n",
       " u'Did you secure a job through campus placements?': u'Yes',\n",
       " u'How many years of work experience do you have?': u'4',\n",
       " u'How would you rate your satisfaction in your current/last job?': u'7',\n",
       " u'If yes, which field is it?': u'',\n",
       " u'In terms of applying/experimenting with what I learn in class': u'Would have spent more time applying/experimenting',\n",
       " u'Major (B.Tech)': u'Electrical and Electronic Engineering',\n",
       " u'My appetite for risk': u'Would have been more than what I had',\n",
       " u'Social life': u'I would have spent the same amount of time that I did',\n",
       " u'Time spent on academics': u'I would have spent more time than I did',\n",
       " u'Time spent on extra curricular activities': u'I would have spent the same amount of time that I did',\n",
       " u'Timestamp': u'2017/07/04 4:04:48 AM GMT+1',\n",
       " u'Were you a member of any of the branch associations, IEEE, ASME, etc?': u'Yes',\n",
       " u'Were you a member of any of the clubs and societies?': u'Yes',\n",
       " u'Were you a member of the student council or fest organization committees?': u'Yes',\n",
       " u'What is your current field of work?': u'Data analytics',\n",
       " u'What was your CGPA?': u'7 to 8',\n",
       " u'Year of graduation': u'2013',\n",
       " u'Your Gender': u'Male'}"
      ]
     },
     "execution_count": 5,
     "metadata": {},
     "output_type": "execute_result"
    }
   ],
   "source": [
    "raw_data[0]"
   ]
  },
  {
   "cell_type": "code",
   "execution_count": null,
   "metadata": {
    "collapsed": true
   },
   "outputs": [],
   "source": []
  }
 ],
 "metadata": {
  "kernelspec": {
   "display_name": "Python 2",
   "language": "python",
   "name": "python2"
  },
  "language_info": {
   "codemirror_mode": {
    "name": "ipython",
    "version": 2
   },
   "file_extension": ".py",
   "mimetype": "text/x-python",
   "name": "python",
   "nbconvert_exporter": "python",
   "pygments_lexer": "ipython2",
   "version": "2.7.9"
  }
 },
 "nbformat": 4,
 "nbformat_minor": 0
}
